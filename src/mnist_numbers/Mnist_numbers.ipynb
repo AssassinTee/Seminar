{
 "cells": [
  {
   "cell_type": "code",
   "execution_count": 6,
   "metadata": {},
   "outputs": [],
   "source": [
    "import numpy as np\n",
    "import sys\n",
    "from tensorflow.keras.datasets import mnist\n",
    "\n",
    "#######################\n",
    "# Importieren der Daten\n",
    "#######################\n",
    "(train_images, train_labels), (test_images, test_labels) = mnist.load_data()\n",
    "\n",
    "\n",
    "# rescaling\n",
    "def rescale_reshape(image):\n",
    "    temp = ((image / np.max(image)) - .5) * 2\n",
    "    return temp.reshape((temp.shape[0], temp.shape[1]*temp.shape[2]))\n",
    "\n",
    "\n",
    "train_images = rescale_reshape(train_images)\n",
    "test_images = rescale_reshape(test_images)"
   ]
  },
  {
   "cell_type": "code",
   "execution_count": 7,
   "metadata": {},
   "outputs": [
    {
     "name": "stdout",
     "output_type": "stream",
     "text": [
      "Train on 60000 samples, validate on 10000 samples\n",
      "Epoch 1/10\n",
      "60000/60000 [==============================] - 3s 53us/step - loss: 0.2569 - acc: 0.9253 - val_loss: 0.1290 - val_acc: 0.9623\n",
      "Epoch 2/10\n",
      "60000/60000 [==============================] - 3s 46us/step - loss: 0.1019 - acc: 0.9700 - val_loss: 0.0947 - val_acc: 0.9728\n",
      "Epoch 3/10\n",
      "60000/60000 [==============================] - 3s 46us/step - loss: 0.0686 - acc: 0.9794 - val_loss: 0.0911 - val_acc: 0.9713\n",
      "Epoch 4/10\n",
      "60000/60000 [==============================] - 3s 48us/step - loss: 0.0490 - acc: 0.9851 - val_loss: 0.0717 - val_acc: 0.9779\n",
      "Epoch 5/10\n",
      "60000/60000 [==============================] - 3s 47us/step - loss: 0.0378 - acc: 0.9887 - val_loss: 0.0673 - val_acc: 0.9799\n",
      "Epoch 6/10\n",
      "60000/60000 [==============================] - 3s 46us/step - loss: 0.0284 - acc: 0.9916 - val_loss: 0.0696 - val_acc: 0.9795\n",
      "Epoch 7/10\n",
      "60000/60000 [==============================] - 3s 48us/step - loss: 0.0223 - acc: 0.9933 - val_loss: 0.0646 - val_acc: 0.9806\n",
      "Epoch 8/10\n",
      "60000/60000 [==============================] - 3s 46us/step - loss: 0.0166 - acc: 0.9952 - val_loss: 0.0732 - val_acc: 0.9819\n",
      "Epoch 9/10\n",
      "60000/60000 [==============================] - 3s 50us/step - loss: 0.0138 - acc: 0.9958 - val_loss: 0.0641 - val_acc: 0.9829\n",
      "Epoch 10/10\n",
      "60000/60000 [==============================] - 3s 47us/step - loss: 0.0100 - acc: 0.9971 - val_loss: 0.0841 - val_acc: 0.9795\n"
     ]
    }
   ],
   "source": [
    "from tensorflow.keras.datasets import mnist\n",
    "from tensorflow.keras.models import Sequential\n",
    "from tensorflow.keras.layers import Dense, Activation\n",
    "from tensorflow.keras.utils import to_categorical\n",
    "\n",
    "# Importiere Daten und normiere sie:\n",
    "(x_train, y_train), (x_test, y_test) = mnist.load_data()\n",
    "x_train = x_train.reshape((60000, 784)).astype('float32') / 255\n",
    "x_test = x_test.reshape((10000, 784)).astype('float32') / 255\n",
    "\n",
    "# Führe ein One-Hot Encoding der Labels durch:\n",
    "y_train = to_categorical(y_train, 10)\n",
    "y_test = to_categorical(y_test, 10)\n",
    "\n",
    "# Implementieren Sie hier das Netz:\n",
    "\n",
    "model = Sequential([\n",
    "    Dense(512, input_shape=(784,)),\n",
    "    Activation('relu'),\n",
    "    Dense(10),\n",
    "    Activation('softmax'),\n",
    "])\n",
    "\n",
    "#model = Sequential()\n",
    "#model.add(Dense(32, input_dim=784))\n",
    "#model.add(Activation('relu'))\n",
    "\n",
    "model.compile(optimizer='rmsprop',\n",
    "              loss='categorical_crossentropy',\n",
    "              metrics=['accuracy'])\n",
    "\n",
    "result = model.fit(x_train, y_train, epochs=10, batch_size=128, validation_data=(x_test, y_test))\n"
   ]
  },
  {
   "cell_type": "code",
   "execution_count": 8,
   "metadata": {},
   "outputs": [
    {
     "name": "stdout",
     "output_type": "stream",
     "text": [
      "Saved weights to disk\n",
      "Saved model to json\n",
      "Saved model to disk\n"
     ]
    }
   ],
   "source": [
    "model.save_weights(\"weights.h5\")\n",
    "print(\"Saved weights to disk\")\n",
    "model_json = model.to_json()\n",
    "with open(\"model.json\", \"w\") as json_file:\n",
    "    json_file.write(model_json)\n",
    "print(\"Saved model to json\")\n",
    "model.save(\"model.h5\")\n",
    "print(\"Saved model to disk\")"
   ]
  }
 ],
 "metadata": {
  "kernelspec": {
   "display_name": "Python 3",
   "language": "python",
   "name": "python3"
  }
 },
 "nbformat": 4,
 "nbformat_minor": 2
}
