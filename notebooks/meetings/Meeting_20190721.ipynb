{
 "cells": [
  {
   "cell_type": "markdown",
   "metadata": {},
   "source": [
    "# Meeting 21.07.19\n",
    "\n",
    "## Erledigt:\n",
    "- Matrix to dense\n",
    "- Matrix auf float32 direkt\n",
    "- Keras MXNet backend, bricht conda, startup script wird benötigt\n",
    "    - Bugfix von caggle cooking tf durch float32\n",
    "        - Tensorflow läuft jetzt auf Azure Maschine\n",
    "    - java anbindung:\n",
    "        - deeplearning4j funktioniert genauso wie bei tf!!!\n",
    "        \n"
   ]
  }
 ],
 "metadata": {
  "kernelspec": {
   "display_name": "Python 3",
   "language": "python",
   "name": "python3"
  },
  "language_info": {
   "codemirror_mode": {
    "name": "ipython",
    "version": 3
   },
   "file_extension": ".py",
   "mimetype": "text/x-python",
   "name": "python",
   "nbconvert_exporter": "python",
   "pygments_lexer": "ipython3",
   "version": "3.6.8"
  }
 },
 "nbformat": 4,
 "nbformat_minor": 2
}
