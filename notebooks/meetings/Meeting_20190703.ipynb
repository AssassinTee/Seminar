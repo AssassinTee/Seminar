{
 "cells": [
  {
   "cell_type": "markdown",
   "metadata": {},
   "source": [
    "# Meeting\n",
    "\n",
    "- One hot vector für targets\n",
    "- Matrix to dense\n",
    "- row nur auf float32/16\n",
    "- keras mit mxnet backend(wichtig)\n",
    "    - Azure lauftest\n",
    "    - java anbindung\n",
    "        - deeplearning4j\n",
    "        - mxnet java interface\n",
    "        - python anbindung swagger/REST\n",
    "        - auch auf azure\n",
    "        \n",
    "## Ausblick\n",
    "\n",
    "- \"Azure functions\"\n",
    "https://azure.microsoft.com/de-de/services/functions/\n",
    "        \n",
    "## Termine\n",
    "\n",
    "- nächstes Meeting 22. Juli Uhrzeit spontan, Montag\n",
    "- erster beide Augustwochen"
   ]
  }
 ],
 "metadata": {
  "kernelspec": {
   "display_name": "Python 3",
   "language": "python",
   "name": "python3"
  },
  "language_info": {
   "codemirror_mode": {
    "name": "ipython",
    "version": 3
   },
   "file_extension": ".py",
   "mimetype": "text/x-python",
   "name": "python",
   "nbconvert_exporter": "python",
   "pygments_lexer": "ipython3",
   "version": "3.7.3"
  }
 },
 "nbformat": 4,
 "nbformat_minor": 2
}
