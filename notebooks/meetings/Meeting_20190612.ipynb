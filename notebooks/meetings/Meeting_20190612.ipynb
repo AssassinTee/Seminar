{
 "cells": [
  {
   "cell_type": "markdown",
   "metadata": {},
   "source": [
    "# Meeting 12.06.2019"
   ]
  },
  {
   "cell_type": "markdown",
   "metadata": {},
   "source": [
    "## Fortschritt:"
   ]
  },
  {
   "cell_type": "markdown",
   "metadata": {},
   "source": [
    "- Kaggle Modell in Pytorch\n",
    "    - Modell erstellen\n",
    "        - Linear layer\n",
    "        - Dropout\n",
    "        - CrossEntropyLoss\n",
    "    - Trainieren\n",
    "        - SGD oder Adam optimizer\n",
    "- Modell Trainieren in Cloud\n",
    "    - funktioniert\n",
    "    - cuda support???\n",
    "    - conda umgebung für pytorch\n"
   ]
  },
  {
   "cell_type": "markdown",
   "metadata": {},
   "source": [
    "## Meeting"
   ]
  },
  {
   "cell_type": "markdown",
   "metadata": {},
   "source": [
    "-- ausgefallen --"
   ]
  }
 ],
 "metadata": {
  "kernelspec": {
   "display_name": "Python 3",
   "language": "python",
   "name": "python3"
  },
  "language_info": {
   "codemirror_mode": {
    "name": "ipython",
    "version": 3
   },
   "file_extension": ".py",
   "mimetype": "text/x-python",
   "name": "python",
   "nbconvert_exporter": "python",
   "pygments_lexer": "ipython3",
   "version": "3.6.8"
  }
 },
 "nbformat": 4,
 "nbformat_minor": 2
}
